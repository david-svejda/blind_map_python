{
 "cells": [
  {
   "cell_type": "code",
   "id": "initial_id",
   "metadata": {
    "collapsed": true,
    "ExecuteTime": {
     "end_time": "2024-12-21T22:46:05.630098Z",
     "start_time": "2024-12-21T22:46:05.385917Z"
    }
   },
   "source": [
    "import geopandas as gpd\n",
    "from shapely.geometry import mapping\n",
    "import numpy as np"
   ],
   "outputs": [],
   "execution_count": 1
  },
  {
   "metadata": {
    "ExecuteTime": {
     "end_time": "2024-12-21T22:46:56.500047Z",
     "start_time": "2024-12-21T22:46:56.441503Z"
    }
   },
   "cell_type": "code",
   "source": "geo_data = gpd.read_file('data/ne_10m_rivers_lake_centerlines/ne_10m_rivers_lake_centerlines.shp')",
   "id": "b44fd4b089c97ffc",
   "outputs": [],
   "execution_count": 2
  },
  {
   "metadata": {
    "ExecuteTime": {
     "end_time": "2024-12-21T22:52:38.497841Z",
     "start_time": "2024-12-21T22:52:38.487705Z"
    }
   },
   "cell_type": "code",
   "source": "geo_data[(geo_data.name.isin(['Vltava']))].head()",
   "id": "954fe6585782b32d",
   "outputs": [
    {
     "data": {
      "text/plain": [
       "      dissolve  scalerank featurecla    name name_alt  rivernum  \\\n",
       "792  1050River          9      River  Vltava   Moldau      1050   \n",
       "\n",
       "                                          note  min_zoom name_en  min_label  \\\n",
       "792  Version 1.2 edit in N. America and Europe       7.1  Vltava        8.1   \n",
       "\n",
       "     ...  name_sv name_tr name_vi name_zh name_fa name_he name_uk name_ur  \\\n",
       "792  ...   Vltava  Vltava  Vltava   伏尔塔瓦河  مولداو  ולטאבה  Влтава  ولٹاوا   \n",
       "\n",
       "    name_zht                                           geometry  \n",
       "792    伏爾塔瓦河  MULTILINESTRING ((13.98413 48.77778, 13.96387 ...  \n",
       "\n",
       "[1 rows x 39 columns]"
      ],
      "text/html": [
       "<div>\n",
       "<style scoped>\n",
       "    .dataframe tbody tr th:only-of-type {\n",
       "        vertical-align: middle;\n",
       "    }\n",
       "\n",
       "    .dataframe tbody tr th {\n",
       "        vertical-align: top;\n",
       "    }\n",
       "\n",
       "    .dataframe thead th {\n",
       "        text-align: right;\n",
       "    }\n",
       "</style>\n",
       "<table border=\"1\" class=\"dataframe\">\n",
       "  <thead>\n",
       "    <tr style=\"text-align: right;\">\n",
       "      <th></th>\n",
       "      <th>dissolve</th>\n",
       "      <th>scalerank</th>\n",
       "      <th>featurecla</th>\n",
       "      <th>name</th>\n",
       "      <th>name_alt</th>\n",
       "      <th>rivernum</th>\n",
       "      <th>note</th>\n",
       "      <th>min_zoom</th>\n",
       "      <th>name_en</th>\n",
       "      <th>min_label</th>\n",
       "      <th>...</th>\n",
       "      <th>name_sv</th>\n",
       "      <th>name_tr</th>\n",
       "      <th>name_vi</th>\n",
       "      <th>name_zh</th>\n",
       "      <th>name_fa</th>\n",
       "      <th>name_he</th>\n",
       "      <th>name_uk</th>\n",
       "      <th>name_ur</th>\n",
       "      <th>name_zht</th>\n",
       "      <th>geometry</th>\n",
       "    </tr>\n",
       "  </thead>\n",
       "  <tbody>\n",
       "    <tr>\n",
       "      <th>792</th>\n",
       "      <td>1050River</td>\n",
       "      <td>9</td>\n",
       "      <td>River</td>\n",
       "      <td>Vltava</td>\n",
       "      <td>Moldau</td>\n",
       "      <td>1050</td>\n",
       "      <td>Version 1.2 edit in N. America and Europe</td>\n",
       "      <td>7.1</td>\n",
       "      <td>Vltava</td>\n",
       "      <td>8.1</td>\n",
       "      <td>...</td>\n",
       "      <td>Vltava</td>\n",
       "      <td>Vltava</td>\n",
       "      <td>Vltava</td>\n",
       "      <td>伏尔塔瓦河</td>\n",
       "      <td>مولداو</td>\n",
       "      <td>ולטאבה</td>\n",
       "      <td>Влтава</td>\n",
       "      <td>ولٹاوا</td>\n",
       "      <td>伏爾塔瓦河</td>\n",
       "      <td>MULTILINESTRING ((13.98413 48.77778, 13.96387 ...</td>\n",
       "    </tr>\n",
       "  </tbody>\n",
       "</table>\n",
       "<p>1 rows × 39 columns</p>\n",
       "</div>"
      ]
     },
     "execution_count": 9,
     "metadata": {},
     "output_type": "execute_result"
    }
   ],
   "execution_count": 9
  }
 ],
 "metadata": {
  "kernelspec": {
   "display_name": "Python 3",
   "language": "python",
   "name": "python3"
  },
  "language_info": {
   "codemirror_mode": {
    "name": "ipython",
    "version": 2
   },
   "file_extension": ".py",
   "mimetype": "text/x-python",
   "name": "python",
   "nbconvert_exporter": "python",
   "pygments_lexer": "ipython2",
   "version": "2.7.6"
  }
 },
 "nbformat": 4,
 "nbformat_minor": 5
}
